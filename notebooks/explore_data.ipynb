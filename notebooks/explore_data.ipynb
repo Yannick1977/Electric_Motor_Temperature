{
 "cells": [
  {
   "cell_type": "code",
   "execution_count": 2,
   "metadata": {},
   "outputs": [],
   "source": [
    "import os\n",
    "os.chdir('../')\n"
   ]
  },
  {
   "cell_type": "code",
   "execution_count": 3,
   "metadata": {},
   "outputs": [],
   "source": [
    "import src.cfg.data as cfg_data\n",
    "import matplotlib.pyplot as plt\n",
    "import pandas as pd"
   ]
  },
  {
   "cell_type": "code",
   "execution_count": 4,
   "metadata": {},
   "outputs": [
    {
     "name": "stdout",
     "output_type": "stream",
     "text": [
      "./data/raw/\n",
      "measures_v2.csv\n"
     ]
    }
   ],
   "source": [
    "print(cfg_data.data_cfg['data_path'])\n",
    "print(cfg_data.data_cfg['data_file'])"
   ]
  },
  {
   "cell_type": "code",
   "execution_count": 6,
   "metadata": {},
   "outputs": [],
   "source": [
    "PATH = os.path.join(cfg_data.data_cfg['data_path'], cfg_data.data_cfg['data_file'])\n",
    "df = pd.read_csv(PATH)"
   ]
  },
  {
   "cell_type": "code",
   "execution_count": 23,
   "metadata": {},
   "outputs": [
    {
     "data": {
      "text/html": [
       "<div>\n",
       "<style scoped>\n",
       "    .dataframe tbody tr th:only-of-type {\n",
       "        vertical-align: middle;\n",
       "    }\n",
       "\n",
       "    .dataframe tbody tr th {\n",
       "        vertical-align: top;\n",
       "    }\n",
       "\n",
       "    .dataframe thead th {\n",
       "        text-align: right;\n",
       "    }\n",
       "</style>\n",
       "<table border=\"1\" class=\"dataframe\">\n",
       "  <thead>\n",
       "    <tr style=\"text-align: right;\">\n",
       "      <th></th>\n",
       "      <th>u_q</th>\n",
       "      <th>coolant</th>\n",
       "      <th>stator_winding</th>\n",
       "      <th>u_d</th>\n",
       "      <th>stator_tooth</th>\n",
       "      <th>motor_speed</th>\n",
       "      <th>i_d</th>\n",
       "      <th>i_q</th>\n",
       "      <th>pm</th>\n",
       "      <th>stator_yoke</th>\n",
       "      <th>ambient</th>\n",
       "      <th>torque</th>\n",
       "      <th>profile_id</th>\n",
       "    </tr>\n",
       "  </thead>\n",
       "  <tbody>\n",
       "    <tr>\n",
       "      <th>0</th>\n",
       "      <td>-0.450682</td>\n",
       "      <td>18.805172</td>\n",
       "      <td>19.086670</td>\n",
       "      <td>-0.350055</td>\n",
       "      <td>18.293219</td>\n",
       "      <td>0.002866</td>\n",
       "      <td>0.004419</td>\n",
       "      <td>0.000328</td>\n",
       "      <td>24.554214</td>\n",
       "      <td>18.316547</td>\n",
       "      <td>19.850691</td>\n",
       "      <td>0.187101</td>\n",
       "      <td>17</td>\n",
       "    </tr>\n",
       "    <tr>\n",
       "      <th>1</th>\n",
       "      <td>-0.325737</td>\n",
       "      <td>18.818571</td>\n",
       "      <td>19.092390</td>\n",
       "      <td>-0.305803</td>\n",
       "      <td>18.294807</td>\n",
       "      <td>0.000257</td>\n",
       "      <td>0.000606</td>\n",
       "      <td>-0.000785</td>\n",
       "      <td>24.538078</td>\n",
       "      <td>18.314955</td>\n",
       "      <td>19.850672</td>\n",
       "      <td>0.245417</td>\n",
       "      <td>17</td>\n",
       "    </tr>\n",
       "    <tr>\n",
       "      <th>2</th>\n",
       "      <td>-0.440864</td>\n",
       "      <td>18.828770</td>\n",
       "      <td>19.089380</td>\n",
       "      <td>-0.372503</td>\n",
       "      <td>18.294094</td>\n",
       "      <td>0.002355</td>\n",
       "      <td>0.001290</td>\n",
       "      <td>0.000386</td>\n",
       "      <td>24.544693</td>\n",
       "      <td>18.326307</td>\n",
       "      <td>19.850657</td>\n",
       "      <td>0.176615</td>\n",
       "      <td>17</td>\n",
       "    </tr>\n",
       "    <tr>\n",
       "      <th>3</th>\n",
       "      <td>-0.327026</td>\n",
       "      <td>18.835567</td>\n",
       "      <td>19.083031</td>\n",
       "      <td>-0.316199</td>\n",
       "      <td>18.292542</td>\n",
       "      <td>0.006105</td>\n",
       "      <td>0.000026</td>\n",
       "      <td>0.002046</td>\n",
       "      <td>24.554018</td>\n",
       "      <td>18.330833</td>\n",
       "      <td>19.850647</td>\n",
       "      <td>0.238303</td>\n",
       "      <td>17</td>\n",
       "    </tr>\n",
       "    <tr>\n",
       "      <th>4</th>\n",
       "      <td>-0.471150</td>\n",
       "      <td>18.857033</td>\n",
       "      <td>19.082525</td>\n",
       "      <td>-0.332272</td>\n",
       "      <td>18.291428</td>\n",
       "      <td>0.003133</td>\n",
       "      <td>-0.064317</td>\n",
       "      <td>0.037184</td>\n",
       "      <td>24.565397</td>\n",
       "      <td>18.326662</td>\n",
       "      <td>19.850639</td>\n",
       "      <td>0.208197</td>\n",
       "      <td>17</td>\n",
       "    </tr>\n",
       "  </tbody>\n",
       "</table>\n",
       "</div>"
      ],
      "text/plain": [
       "        u_q    coolant  stator_winding       u_d  stator_tooth  motor_speed  \\\n",
       "0 -0.450682  18.805172       19.086670 -0.350055     18.293219     0.002866   \n",
       "1 -0.325737  18.818571       19.092390 -0.305803     18.294807     0.000257   \n",
       "2 -0.440864  18.828770       19.089380 -0.372503     18.294094     0.002355   \n",
       "3 -0.327026  18.835567       19.083031 -0.316199     18.292542     0.006105   \n",
       "4 -0.471150  18.857033       19.082525 -0.332272     18.291428     0.003133   \n",
       "\n",
       "        i_d       i_q         pm  stator_yoke    ambient    torque  profile_id  \n",
       "0  0.004419  0.000328  24.554214    18.316547  19.850691  0.187101          17  \n",
       "1  0.000606 -0.000785  24.538078    18.314955  19.850672  0.245417          17  \n",
       "2  0.001290  0.000386  24.544693    18.326307  19.850657  0.176615          17  \n",
       "3  0.000026  0.002046  24.554018    18.330833  19.850647  0.238303          17  \n",
       "4 -0.064317  0.037184  24.565397    18.326662  19.850639  0.208197          17  "
      ]
     },
     "execution_count": 23,
     "metadata": {},
     "output_type": "execute_result"
    }
   ],
   "source": [
    "df.head()\n"
   ]
  },
  {
   "cell_type": "code",
   "execution_count": 24,
   "metadata": {},
   "outputs": [
    {
     "data": {
      "text/plain": [
       "(1330816, 13)"
      ]
     },
     "execution_count": 24,
     "metadata": {},
     "output_type": "execute_result"
    }
   ],
   "source": [
    "df.shape"
   ]
  },
  {
   "cell_type": "code",
   "execution_count": 8,
   "metadata": {},
   "outputs": [
    {
     "data": {
      "text/html": [
       "<div>\n",
       "<style scoped>\n",
       "    .dataframe tbody tr th:only-of-type {\n",
       "        vertical-align: middle;\n",
       "    }\n",
       "\n",
       "    .dataframe tbody tr th {\n",
       "        vertical-align: top;\n",
       "    }\n",
       "\n",
       "    .dataframe thead th {\n",
       "        text-align: right;\n",
       "    }\n",
       "</style>\n",
       "<table border=\"1\" class=\"dataframe\">\n",
       "  <thead>\n",
       "    <tr style=\"text-align: right;\">\n",
       "      <th></th>\n",
       "      <th>u_q</th>\n",
       "      <th>coolant</th>\n",
       "      <th>stator_winding</th>\n",
       "      <th>u_d</th>\n",
       "      <th>stator_tooth</th>\n",
       "      <th>motor_speed</th>\n",
       "      <th>i_d</th>\n",
       "      <th>i_q</th>\n",
       "      <th>pm</th>\n",
       "      <th>stator_yoke</th>\n",
       "      <th>ambient</th>\n",
       "      <th>torque</th>\n",
       "      <th>profile_id</th>\n",
       "    </tr>\n",
       "  </thead>\n",
       "  <tbody>\n",
       "    <tr>\n",
       "      <th>count</th>\n",
       "      <td>1.330816e+06</td>\n",
       "      <td>1.330816e+06</td>\n",
       "      <td>1.330816e+06</td>\n",
       "      <td>1.330816e+06</td>\n",
       "      <td>1.330816e+06</td>\n",
       "      <td>1.330816e+06</td>\n",
       "      <td>1.330816e+06</td>\n",
       "      <td>1.330816e+06</td>\n",
       "      <td>1.330816e+06</td>\n",
       "      <td>1.330816e+06</td>\n",
       "      <td>1.330816e+06</td>\n",
       "      <td>1.330816e+06</td>\n",
       "      <td>1.330816e+06</td>\n",
       "    </tr>\n",
       "    <tr>\n",
       "      <th>mean</th>\n",
       "      <td>5.427900e+01</td>\n",
       "      <td>3.622999e+01</td>\n",
       "      <td>6.634275e+01</td>\n",
       "      <td>-2.513381e+01</td>\n",
       "      <td>5.687858e+01</td>\n",
       "      <td>2.202081e+03</td>\n",
       "      <td>-6.871681e+01</td>\n",
       "      <td>3.741278e+01</td>\n",
       "      <td>5.850678e+01</td>\n",
       "      <td>4.818796e+01</td>\n",
       "      <td>2.456526e+01</td>\n",
       "      <td>3.110603e+01</td>\n",
       "      <td>4.079306e+01</td>\n",
       "    </tr>\n",
       "    <tr>\n",
       "      <th>std</th>\n",
       "      <td>4.417323e+01</td>\n",
       "      <td>2.178615e+01</td>\n",
       "      <td>2.867206e+01</td>\n",
       "      <td>6.309197e+01</td>\n",
       "      <td>2.295223e+01</td>\n",
       "      <td>1.859663e+03</td>\n",
       "      <td>6.493323e+01</td>\n",
       "      <td>9.218188e+01</td>\n",
       "      <td>1.900150e+01</td>\n",
       "      <td>1.999100e+01</td>\n",
       "      <td>1.929522e+00</td>\n",
       "      <td>7.713575e+01</td>\n",
       "      <td>2.504549e+01</td>\n",
       "    </tr>\n",
       "    <tr>\n",
       "      <th>min</th>\n",
       "      <td>-2.529093e+01</td>\n",
       "      <td>1.062375e+01</td>\n",
       "      <td>1.858582e+01</td>\n",
       "      <td>-1.315304e+02</td>\n",
       "      <td>1.813398e+01</td>\n",
       "      <td>-2.755491e+02</td>\n",
       "      <td>-2.780036e+02</td>\n",
       "      <td>-2.934268e+02</td>\n",
       "      <td>2.085696e+01</td>\n",
       "      <td>1.807669e+01</td>\n",
       "      <td>8.783478e+00</td>\n",
       "      <td>-2.464667e+02</td>\n",
       "      <td>2.000000e+00</td>\n",
       "    </tr>\n",
       "    <tr>\n",
       "      <th>25%</th>\n",
       "      <td>1.206992e+01</td>\n",
       "      <td>1.869814e+01</td>\n",
       "      <td>4.278796e+01</td>\n",
       "      <td>-7.869090e+01</td>\n",
       "      <td>3.841601e+01</td>\n",
       "      <td>3.171107e+02</td>\n",
       "      <td>-1.154061e+02</td>\n",
       "      <td>1.095863e+00</td>\n",
       "      <td>4.315158e+01</td>\n",
       "      <td>3.199033e+01</td>\n",
       "      <td>2.318480e+01</td>\n",
       "      <td>-1.374265e-01</td>\n",
       "      <td>1.700000e+01</td>\n",
       "    </tr>\n",
       "    <tr>\n",
       "      <th>50%</th>\n",
       "      <td>4.893818e+01</td>\n",
       "      <td>2.690014e+01</td>\n",
       "      <td>6.511013e+01</td>\n",
       "      <td>-7.429755e+00</td>\n",
       "      <td>5.603635e+01</td>\n",
       "      <td>1.999977e+03</td>\n",
       "      <td>-5.109376e+01</td>\n",
       "      <td>1.577401e+01</td>\n",
       "      <td>6.026629e+01</td>\n",
       "      <td>4.562551e+01</td>\n",
       "      <td>2.479733e+01</td>\n",
       "      <td>1.086035e+01</td>\n",
       "      <td>4.300000e+01</td>\n",
       "    </tr>\n",
       "    <tr>\n",
       "      <th>75%</th>\n",
       "      <td>9.003439e+01</td>\n",
       "      <td>4.985749e+01</td>\n",
       "      <td>8.814114e+01</td>\n",
       "      <td>1.470271e+00</td>\n",
       "      <td>7.558668e+01</td>\n",
       "      <td>3.760639e+03</td>\n",
       "      <td>-2.979688e+00</td>\n",
       "      <td>1.006121e+02</td>\n",
       "      <td>7.200837e+01</td>\n",
       "      <td>6.146083e+01</td>\n",
       "      <td>2.621702e+01</td>\n",
       "      <td>9.159718e+01</td>\n",
       "      <td>6.500000e+01</td>\n",
       "    </tr>\n",
       "    <tr>\n",
       "      <th>max</th>\n",
       "      <td>1.330370e+02</td>\n",
       "      <td>1.015985e+02</td>\n",
       "      <td>1.413629e+02</td>\n",
       "      <td>1.314698e+02</td>\n",
       "      <td>1.119464e+02</td>\n",
       "      <td>6.000015e+03</td>\n",
       "      <td>5.189670e-02</td>\n",
       "      <td>3.017079e+02</td>\n",
       "      <td>1.136066e+02</td>\n",
       "      <td>1.011480e+02</td>\n",
       "      <td>3.071420e+01</td>\n",
       "      <td>2.610057e+02</td>\n",
       "      <td>8.100000e+01</td>\n",
       "    </tr>\n",
       "  </tbody>\n",
       "</table>\n",
       "</div>"
      ],
      "text/plain": [
       "                u_q       coolant  stator_winding           u_d  stator_tooth  \\\n",
       "count  1.330816e+06  1.330816e+06    1.330816e+06  1.330816e+06  1.330816e+06   \n",
       "mean   5.427900e+01  3.622999e+01    6.634275e+01 -2.513381e+01  5.687858e+01   \n",
       "std    4.417323e+01  2.178615e+01    2.867206e+01  6.309197e+01  2.295223e+01   \n",
       "min   -2.529093e+01  1.062375e+01    1.858582e+01 -1.315304e+02  1.813398e+01   \n",
       "25%    1.206992e+01  1.869814e+01    4.278796e+01 -7.869090e+01  3.841601e+01   \n",
       "50%    4.893818e+01  2.690014e+01    6.511013e+01 -7.429755e+00  5.603635e+01   \n",
       "75%    9.003439e+01  4.985749e+01    8.814114e+01  1.470271e+00  7.558668e+01   \n",
       "max    1.330370e+02  1.015985e+02    1.413629e+02  1.314698e+02  1.119464e+02   \n",
       "\n",
       "        motor_speed           i_d           i_q            pm   stator_yoke  \\\n",
       "count  1.330816e+06  1.330816e+06  1.330816e+06  1.330816e+06  1.330816e+06   \n",
       "mean   2.202081e+03 -6.871681e+01  3.741278e+01  5.850678e+01  4.818796e+01   \n",
       "std    1.859663e+03  6.493323e+01  9.218188e+01  1.900150e+01  1.999100e+01   \n",
       "min   -2.755491e+02 -2.780036e+02 -2.934268e+02  2.085696e+01  1.807669e+01   \n",
       "25%    3.171107e+02 -1.154061e+02  1.095863e+00  4.315158e+01  3.199033e+01   \n",
       "50%    1.999977e+03 -5.109376e+01  1.577401e+01  6.026629e+01  4.562551e+01   \n",
       "75%    3.760639e+03 -2.979688e+00  1.006121e+02  7.200837e+01  6.146083e+01   \n",
       "max    6.000015e+03  5.189670e-02  3.017079e+02  1.136066e+02  1.011480e+02   \n",
       "\n",
       "            ambient        torque    profile_id  \n",
       "count  1.330816e+06  1.330816e+06  1.330816e+06  \n",
       "mean   2.456526e+01  3.110603e+01  4.079306e+01  \n",
       "std    1.929522e+00  7.713575e+01  2.504549e+01  \n",
       "min    8.783478e+00 -2.464667e+02  2.000000e+00  \n",
       "25%    2.318480e+01 -1.374265e-01  1.700000e+01  \n",
       "50%    2.479733e+01  1.086035e+01  4.300000e+01  \n",
       "75%    2.621702e+01  9.159718e+01  6.500000e+01  \n",
       "max    3.071420e+01  2.610057e+02  8.100000e+01  "
      ]
     },
     "execution_count": 8,
     "metadata": {},
     "output_type": "execute_result"
    }
   ],
   "source": [
    "df.describe()"
   ]
  },
  {
   "cell_type": "code",
   "execution_count": 10,
   "metadata": {},
   "outputs": [
    {
     "data": {
      "text/plain": [
       "Index(['u_q', 'coolant', 'stator_winding', 'u_d', 'stator_tooth',\n",
       "       'motor_speed', 'i_d', 'i_q', 'pm', 'stator_yoke', 'ambient', 'torque',\n",
       "       'profile_id'],\n",
       "      dtype='object')"
      ]
     },
     "execution_count": 10,
     "metadata": {},
     "output_type": "execute_result"
    }
   ],
   "source": [
    "df.columns"
   ]
  },
  {
   "cell_type": "code",
   "execution_count": 38,
   "metadata": {},
   "outputs": [
    {
     "data": {
      "text/plain": [
       "array([17,  5, 12, 32, 21,  2,  4,  7, 19,  3,  9, 23, 27, 26, 11,  6, 10,\n",
       "       13, 31, 18, 30, 29,  8, 24, 20, 15, 14, 16, 36, 74, 75, 41, 68, 50,\n",
       "       53, 49, 81, 80, 59, 54, 57, 70, 51, 55, 45, 69, 61, 76, 56, 64, 72,\n",
       "       73, 62, 65, 63, 43, 47, 66, 42, 48, 67, 44, 79, 52, 60, 46, 58, 78,\n",
       "       71], dtype=int64)"
      ]
     },
     "execution_count": 38,
     "metadata": {},
     "output_type": "execute_result"
    }
   ],
   "source": [
    "df['profile_id'].unique()"
   ]
  },
  {
   "cell_type": "code",
   "execution_count": 47,
   "metadata": {},
   "outputs": [
    {
     "data": {
      "text/plain": [
       "<Axes: >"
      ]
     },
     "execution_count": 47,
     "metadata": {},
     "output_type": "execute_result"
    },
    {
     "data": {
      "image/png": "[encoded data removed]",
      "text/plain": [
       "<Figure size 640x480 with 1 Axes>"
      ]
     },
     "metadata": {},
     "output_type": "display_data"
    }
   ],
   "source": [
    "df[df['profile_id'] == 46]['motor_speed'].iloc[0:2000].plot()\n"
   ]
  },
  {
   "cell_type": "code",
   "execution_count": 45,
   "metadata": {},
   "outputs": [
    {
     "data": {
      "text/plain": [
       "<Axes: xlabel='profile_id'>"
      ]
     },
     "execution_count": 45,
     "metadata": {},
     "output_type": "execute_result"
    },
    {
     "data": {
      "image/png": "[encoded data removed]",
      "text/plain": [
       "<Figure size 2000x1000 with 1 Axes>"
      ]
     },
     "metadata": {},
     "output_type": "display_data"
    }
   ],
   "source": [
    "plt.figure(figsize=(20,10))\n",
    "df['profile_id'].value_counts().plot(kind='bar')"
   ]
  },
  {
   "cell_type": "code",
   "execution_count": 7,
   "metadata": {},
   "outputs": [],
   "source": [
    "grpd = {pid: df_ for pid, df_ in df.groupby('profile_id')}"
   ]
  },
  {
   "cell_type": "code",
   "execution_count": 10,
   "metadata": {},
   "outputs": [
    {
     "data": {
      "text/plain": [
       "69"
      ]
     },
     "execution_count": 10,
     "metadata": {},
     "output_type": "execute_result"
    }
   ],
   "source": [
    "grpd.keys()"
   ]
  }
 ],
 "metadata": {
  "kernelspec": {
   "display_name": ".venv",
   "language": "python",
   "name": "python3"
  },
  "language_info": {
   "codemirror_mode": {
    "name": "ipython",
    "version": 3
   },
   "file_extension": ".py",
   "mimetype": "text/x-python",
   "name": "python",
   "nbconvert_exporter": "python",
   "pygments_lexer": "ipython3",
   "version": "3.10.13"
  }
 },
 "nbformat": 4,
 "nbformat_minor": 2
}
